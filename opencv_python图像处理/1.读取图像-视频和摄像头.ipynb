{
 "cells": [
  {
   "cell_type": "markdown",
   "id": "d105fd9e",
   "metadata": {},
   "source": [
    "视频链接：https://www.bilibili.com/video/BV16K411W7x9/?spm_id_from=333.337.search-card.all.click&vd_source=72fffbd743c762b5ec5d5025128670a5\n",
    "github链接：https://github.com/murtazahassan/Learn-OpenCV-in-3-hours"
   ]
  },
  {
   "cell_type": "code",
   "execution_count": null,
   "id": "9235b53d",
   "metadata": {},
   "outputs": [],
   "source": [
    "import cv2"
   ]
  },
  {
   "cell_type": "code",
   "execution_count": 2,
   "id": "0c16d0d7",
   "metadata": {},
   "outputs": [
    {
     "data": {
      "text/plain": [
       "-1"
      ]
     },
     "execution_count": 2,
     "metadata": {},
     "output_type": "execute_result"
    }
   ],
   "source": [
    "# 读取图像\n",
    "img = cv2.imread(\"Resources/lena.png\")\n",
    "cv2.imshow(\"Lena Soderberg\",img)\n",
    "cv2.waitKey(0)"
   ]
  },
  {
   "cell_type": "code",
   "execution_count": 2,
   "id": "533d2d76",
   "metadata": {},
   "outputs": [],
   "source": [
    "# 读取视频（程序会报错）\n",
    "# frameWidth = 640\n",
    "# frameHeight = 480\n",
    "# cap = cv2.VideoCapture(\"Resources/test_video.mp4\")\n",
    "# while True:\n",
    "#     success, img = cap.read()\n",
    "#     img = cv2.resize(img, (frameWidth, frameHeight))\n",
    "#     cv2.imshow(\"Result\", img)\n",
    "#     if cv2.waitKey(1) & 0xFF == ord('q'):\n",
    "#         break"
   ]
  },
  {
   "cell_type": "code",
   "execution_count": null,
   "id": "60a72d0b",
   "metadata": {},
   "outputs": [],
   "source": [
    "# 读取摄像头\n",
    "frameWidth = 640\n",
    "frameHeight = 480\n",
    "cap = cv2.VideoCapture(0)\n",
    "cap.set(3, frameWidth)\n",
    "cap.set(4, frameHeight)\n",
    "cap.set(10, 150)\n",
    "while True:\n",
    "    success, img = cap.read()\n",
    "    cv2.imshow(\"Result\", img)\n",
    "    if cv2.waitKey(1) & 0xFF == ord('q'):\n",
    "        break"
   ]
  },
  {
   "cell_type": "code",
   "execution_count": null,
   "id": "cea30f25",
   "metadata": {},
   "outputs": [],
   "source": []
  }
 ],
 "metadata": {
  "kernelspec": {
   "display_name": "Python [conda env:PyTorch]",
   "language": "python",
   "name": "conda-env-PyTorch-py"
  },
  "language_info": {
   "codemirror_mode": {
    "name": "ipython",
    "version": 3
   },
   "file_extension": ".py",
   "mimetype": "text/x-python",
   "name": "python",
   "nbconvert_exporter": "python",
   "pygments_lexer": "ipython3",
   "version": "3.9.18"
  }
 },
 "nbformat": 4,
 "nbformat_minor": 5
}
