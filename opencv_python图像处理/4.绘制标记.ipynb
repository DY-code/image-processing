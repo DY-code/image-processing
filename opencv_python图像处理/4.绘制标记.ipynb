{
 "cells": [
  {
   "cell_type": "code",
   "execution_count": 2,
   "id": "92b7bf0f",
   "metadata": {},
   "outputs": [],
   "source": [
    "import cv2\n",
    "import numpy as np"
   ]
  },
  {
   "cell_type": "code",
   "execution_count": 6,
   "id": "4f81066d",
   "metadata": {},
   "outputs": [],
   "source": [
    "img = np.zeros((512,512,3), np.uint8)\n",
    "img[:] = 255,0,0\n",
    "# print(img)"
   ]
  },
  {
   "cell_type": "code",
   "execution_count": 11,
   "id": "7f49c186",
   "metadata": {},
   "outputs": [],
   "source": [
    "cv2.line(img, (0,0), (img.shape[1],img.shape[0]), (0,255,0), 3)\n",
    "cv2.rectangle(img, (0,0), (250, 350), (0,0,255), 2)\n",
    "cv2.circle(img, (400,50), 30, (255,255,0), 5)\n",
    "cv2.putText(img, \" OPENCV \", (300,200), cv2.FONT_HERSHEY_COMPLEX, 1, (0,150,0), 3)"
   ]
  },
  {
   "cell_type": "code",
   "execution_count": 12,
   "id": "bc475215",
   "metadata": {},
   "outputs": [
    {
     "data": {
      "text/plain": [
       "-1"
      ]
     },
     "execution_count": 12,
     "metadata": {},
     "output_type": "execute_result"
    }
   ],
   "source": [
    "cv2.imshow(\"Image\", img)\n",
    "cv2.waitKey(0)"
   ]
  },
  {
   "cell_type": "code",
   "execution_count": null,
   "id": "f1f405e5",
   "metadata": {},
   "outputs": [],
   "source": []
  }
 ],
 "metadata": {
  "kernelspec": {
   "display_name": "Python [conda env:PyTorch]",
   "language": "python",
   "name": "conda-env-PyTorch-py"
  },
  "language_info": {
   "codemirror_mode": {
    "name": "ipython",
    "version": 3
   },
   "file_extension": ".py",
   "mimetype": "text/x-python",
   "name": "python",
   "nbconvert_exporter": "python",
   "pygments_lexer": "ipython3",
   "version": "3.9.18"
  }
 },
 "nbformat": 4,
 "nbformat_minor": 5
}
