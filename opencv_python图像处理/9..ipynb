{
 "cells": [
  {
   "cell_type": "code",
   "execution_count": 1,
   "id": "f1f405e5",
   "metadata": {},
   "outputs": [],
   "source": [
    "import cv2\n",
    "import numpy as np"
   ]
  },
  {
   "cell_type": "code",
   "execution_count": 2,
   "id": "c44a7b3d",
   "metadata": {},
   "outputs": [],
   "source": [
    "img = cv2.imread(\"Resources/cards.jpg\")"
   ]
  },
  {
   "cell_type": "code",
   "execution_count": 4,
   "id": "f763fd5e",
   "metadata": {},
   "outputs": [],
   "source": [
    "# 透视变换\n",
    "width, height = 250, 350\n",
    "pts1 = np.float32([[111,219], [287,188], [154,482], [352,440]])\n",
    "pts2 = np.float32([[0,0], [width,0], [0,height], [width, height]])\n",
    "matrix = cv2.getPerspectiveTransform(pts1, pts2)\n",
    "imgOutput = cv2.warpPerspective(img, matrix, (width, height))"
   ]
  },
  {
   "cell_type": "code",
   "execution_count": 5,
   "id": "fafe2c67",
   "metadata": {},
   "outputs": [
    {
     "data": {
      "text/plain": [
       "-1"
      ]
     },
     "execution_count": 5,
     "metadata": {},
     "output_type": "execute_result"
    }
   ],
   "source": [
    "cv2.imshow(\"Image\", img)\n",
    "cv2.imshow(\"Output\", imgOutput)\n",
    "cv2.waitKey(0)"
   ]
  }
 ],
 "metadata": {
  "kernelspec": {
   "display_name": "Python [conda env:PyTorch]",
   "language": "python",
   "name": "conda-env-PyTorch-py"
  },
  "language_info": {
   "codemirror_mode": {
    "name": "ipython",
    "version": 3
   },
   "file_extension": ".py",
   "mimetype": "text/x-python",
   "name": "python",
   "nbconvert_exporter": "python",
   "pygments_lexer": "ipython3",
   "version": "3.9.18"
  }
 },
 "nbformat": 4,
 "nbformat_minor": 5
}
