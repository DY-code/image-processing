{
 "cells": [
  {
   "cell_type": "code",
   "execution_count": 1,
   "id": "70d1d8ec",
   "metadata": {},
   "outputs": [],
   "source": [
    "import cv2\n",
    "import numpy as np"
   ]
  },
  {
   "cell_type": "code",
   "execution_count": 2,
   "id": "2c073a6e",
   "metadata": {},
   "outputs": [],
   "source": [
    "img = cv2.imread(\"Resources/lena.png\")\n",
    "kernel = np.ones((5,5), np.uint8)"
   ]
  },
  {
   "cell_type": "code",
   "execution_count": 3,
   "id": "d382242a",
   "metadata": {},
   "outputs": [],
   "source": [
    "# 颜色空间转换\n",
    "imgGray = cv2.cvtColor(img, cv2.COLOR_BGR2GRAY) \n",
    "# 高斯模糊\n",
    "imgBlur = cv2.GaussianBlur(imgGray, (7,7), 0)\n",
    "# 边缘检测\n",
    "imgCanny = cv2.Canny(img, 150, 200)\n",
    "# 膨胀\n",
    "imgDialation = cv2.dilate(imgCanny, kernel, iterations=1)\n",
    "# 腐蚀\n",
    "imgEroded = cv2.erode(imgDialation, kernel, iterations=1)"
   ]
  },
  {
   "cell_type": "code",
   "execution_count": 6,
   "id": "b251dfda",
   "metadata": {},
   "outputs": [
    {
     "data": {
      "text/plain": [
       "-1"
      ]
     },
     "execution_count": 6,
     "metadata": {},
     "output_type": "execute_result"
    }
   ],
   "source": [
    "cv2.imshow(\"Gray Image\", imgGray)\n",
    "cv2.imshow(\"Blur Image\", imgBlur)\n",
    "cv2.imshow(\"Canny Image\", imgCanny)\n",
    "cv2.imshow(\"Dialation Image\", imgDialation)\n",
    "cv2.imshow(\"Eroded Image\", imgEroded)\n",
    "cv2.waitKey(0)"
   ]
  },
  {
   "cell_type": "code",
   "execution_count": null,
   "id": "d873c36f",
   "metadata": {},
   "outputs": [],
   "source": []
  }
 ],
 "metadata": {
  "kernelspec": {
   "display_name": "Python [conda env:PyTorch]",
   "language": "python",
   "name": "conda-env-PyTorch-py"
  },
  "language_info": {
   "codemirror_mode": {
    "name": "ipython",
    "version": 3
   },
   "file_extension": ".py",
   "mimetype": "text/x-python",
   "name": "python",
   "nbconvert_exporter": "python",
   "pygments_lexer": "ipython3",
   "version": "3.9.18"
  }
 },
 "nbformat": 4,
 "nbformat_minor": 5
}
