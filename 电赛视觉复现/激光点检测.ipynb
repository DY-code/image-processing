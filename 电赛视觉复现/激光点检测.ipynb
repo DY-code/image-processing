{
 "cells": [
  {
   "cell_type": "code",
   "execution_count": 10,
   "id": "5d04fe79",
   "metadata": {},
   "outputs": [],
   "source": [
    "import cv2 as cv\n",
    "import numpy as np"
   ]
  },
  {
   "cell_type": "code",
   "execution_count": 13,
   "id": "cb469def",
   "metadata": {},
   "outputs": [],
   "source": [
    "red_lower = np.array([0, 60, 60])\n",
    "red_upper = np.array([6, 255, 255])"
   ]
  },
  {
   "cell_type": "code",
   "execution_count": 15,
   "id": "46051f46",
   "metadata": {},
   "outputs": [],
   "source": [
    "# 调用摄像头\n",
    "cap = cv.VideoCapture(0)\n",
    "\n",
    "while (1):\n",
    "    ret, frame = cap.read()\n",
    "    # 高斯模糊\n",
    "    gs_frame = cv.GaussianBlur(frame, (5,5), 0)\n",
    "    # 转换成HSV图像\n",
    "    hsv_frame = cv.cvtColor(gs_frame, cv.COLOR_BGR2HSV) \n",
    "    # 腐蚀\n",
    "    erode_hsv = cv.erode(hsv_frame, None, iterations=2)\n",
    "    # 去除背景部分\n",
    "    inRange_hsv = cv.inRange(erode_hsv, red_lower, red_upper)\n",
    "    \n",
    "    cnts = cv.findContours(inRange_hsv.copy(), cv.RETR_EXTERNAL, cv.CHAIN_APPROX_SIMPLE)[-2]\n",
    "    \n",
    "    c = max(cnts, key=cv.contourArea)\n",
    "    rect = cv.minAreaRect(c)\n",
    "    box = cv.boxPoints(rect)\n",
    "    cv.drawContours(frame, [np.intp(box)], -1, (0,255,255), 2)\n",
    "\n",
    "    cv.imshow(\"capture\", inRange_hsv)\n",
    "\n",
    "\n",
    "    if cv.waitKey(1) & 0xFF == ord('q'):\n",
    "        break\n",
    "        \n",
    "cap.release() # 释放摄像头\n",
    "cv.destroyAllWindows() # 关闭所有窗口"
   ]
  },
  {
   "cell_type": "code",
   "execution_count": null,
   "id": "b433b468",
   "metadata": {},
   "outputs": [],
   "source": []
  }
 ],
 "metadata": {
  "kernelspec": {
   "display_name": "Python [conda env:PyTorch]",
   "language": "python",
   "name": "conda-env-PyTorch-py"
  },
  "language_info": {
   "codemirror_mode": {
    "name": "ipython",
    "version": 3
   },
   "file_extension": ".py",
   "mimetype": "text/x-python",
   "name": "python",
   "nbconvert_exporter": "python",
   "pygments_lexer": "ipython3",
   "version": "3.9.18"
  }
 },
 "nbformat": 4,
 "nbformat_minor": 5
}
