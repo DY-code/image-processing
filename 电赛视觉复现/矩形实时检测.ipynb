{
 "cells": [
  {
   "cell_type": "code",
   "execution_count": 4,
   "id": "20aabe68",
   "metadata": {},
   "outputs": [],
   "source": [
    "import cv2"
   ]
  },
  {
   "cell_type": "code",
   "execution_count": 5,
   "id": "a84a6a4c",
   "metadata": {},
   "outputs": [],
   "source": [
    "# 调用摄像头\n",
    "cap = cv2.VideoCapture(0)\n",
    "\n",
    "while (1):\n",
    "    ret, frame = cap.read()\n",
    "\n",
    "    \n",
    "    # 转换为灰度图像\n",
    "    gray = cv2.cvtColor(frame, cv2.COLOR_BGR2GRAY)\n",
    "    # 边缘检测\n",
    "    edges = cv2.Canny(gray, 50, 150)\n",
    "    # 轮廓检测 得到所有轮廓和轮廓之间的关系\n",
    "    contours, hierarchy = cv2.findContours(edges, cv2.RETR_LIST, cv2.CHAIN_APPROX_SIMPLE)\n",
    "    # 筛选矩形\n",
    "    for contour in contours:\n",
    "        # 多边形逼近 返回多边形顶点坐标\n",
    "        approx = cv2.approxPolyDP(contour, # 输入轮廓 \n",
    "                                  0.01*cv2.arcLength(contour, True), # 逼近误差 cv2.arcLength用于计算轮廓周长\n",
    "                                  True # 输出封闭多边形\n",
    "                                 )\n",
    "        if len(approx) == 4: # 矩形对应顶点数为4个\n",
    "            cv2.drawContours(frame, [approx], 0, (0,255,0), 3)\n",
    "    \n",
    "    \n",
    "    cv2.imshow(\"image\", frame)\n",
    "    if cv.waitKey(1) & 0xFF == ord('q'):\n",
    "        break\n",
    "        \n",
    "cap.release() # 释放摄像头\n",
    "cv2.destroyAllWindows() # 关闭所有窗口"
   ]
  },
  {
   "cell_type": "code",
   "execution_count": null,
   "id": "32f2958a",
   "metadata": {},
   "outputs": [],
   "source": []
  }
 ],
 "metadata": {
  "kernelspec": {
   "display_name": "Python 3 (ipykernel)",
   "language": "python",
   "name": "python3"
  },
  "language_info": {
   "codemirror_mode": {
    "name": "ipython",
    "version": 3
   },
   "file_extension": ".py",
   "mimetype": "text/x-python",
   "name": "python",
   "nbconvert_exporter": "python",
   "pygments_lexer": "ipython3",
   "version": "3.11.5"
  }
 },
 "nbformat": 4,
 "nbformat_minor": 5
}
