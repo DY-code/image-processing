{
 "cells": [
  {
   "cell_type": "code",
   "execution_count": 61,
   "id": "b3f0f08d",
   "metadata": {},
   "outputs": [
    {
     "name": "stdout",
     "output_type": "stream",
     "text": [
      "54634.0 4\n",
      "54638.0 4\n",
      "57697.0 16\n",
      "57926.0 16\n",
      "17022.5 4\n",
      "51069.5 4\n",
      "17025.5 4\n",
      "51071.5 4\n",
      "202.0 11\n",
      "216.0 12\n",
      "31512.0 3\n",
      "31779.0 3\n",
      "17023.0 4\n",
      "17025.0 4\n",
      "12023.0 3\n",
      "11071.5 14\n",
      "12184.5 3\n",
      "11174.5 15\n",
      "293.5 7\n"
     ]
    }
   ],
   "source": [
    "import cv2\n",
    "\n",
    "# 读取图像\n",
    "img = cv2.imread('rect1.jpeg')\n",
    "# 转换为灰度图像\n",
    "gray = cv2.cvtColor(img, cv2.COLOR_BGR2GRAY)\n",
    "# 边缘检测\n",
    "edges = cv2.Canny(gray, 50, 150)\n",
    "# 轮廓检测 得到所有轮廓和轮廓之间的关系\n",
    "contours, hierarchy = cv2.findContours(edges, cv2.RETR_LIST, cv2.CHAIN_APPROX_SIMPLE)\n",
    "\n",
    "for contour in contours:\n",
    "    # 根据轮廓所围面积进行一次筛选\n",
    "    if cv2.contourArea(contour) < 200:\n",
    "        continue\n",
    "        \n",
    "    # 打印轮廓面积\n",
    "    print(cv2.contourArea(contour), end=\" \")\n",
    "    \n",
    "    # 多边形逼近 返回多边形顶点坐标\n",
    "    approx = cv2.approxPolyDP(contour, # 输入轮廓 \n",
    "                              0.01*cv2.arcLength(contour, True), # 逼近误差 cv2.arcLength用于计算轮廓周长\n",
    "                              True # 输出封闭多边形\n",
    "                             )\n",
    "    \n",
    "    print(len(approx)) # 打印多边形逼近后的顶点数量\n",
    "    if len(approx) == 4: # 矩形对应顶点数为4个\n",
    "        cv2.drawContours(img, [approx], 0, (0,255,0), 3)\n",
    "\n",
    "cv2.imshow(\"image\", img)\n",
    "cv2.waitKey(0) # 无限期等待\n",
    "cv2.destroyAllWindows() # 关闭所有窗口"
   ]
  },
  {
   "cell_type": "code",
   "execution_count": null,
   "id": "cba7cab9",
   "metadata": {},
   "outputs": [],
   "source": [
    "54634.0 4\n",
    "54638.0 4\n",
    "57697.0 16\n",
    "57926.0 16\n",
    "17022.5 4\n",
    "51069.5 4\n",
    "17025.5 4\n",
    "51071.5 4\n",
    "202.0 11\n",
    "216.0 12\n",
    "31512.0 3\n",
    "31779.0 3\n",
    "17023.0 4\n",
    "17025.0 4\n",
    "12023.0 3\n",
    "11071.5 14\n",
    "12184.5 3\n",
    "11174.5 15\n",
    "293.5 7"
   ]
  },
  {
   "cell_type": "code",
   "execution_count": 9,
   "id": "bf9c6b26",
   "metadata": {},
   "outputs": [
    {
     "data": {
      "text/plain": [
       "118"
      ]
     },
     "execution_count": 9,
     "metadata": {},
     "output_type": "execute_result"
    }
   ],
   "source": [
    "len(contours)"
   ]
  },
  {
   "cell_type": "code",
   "execution_count": 19,
   "id": "c80b0a2b",
   "metadata": {},
   "outputs": [
    {
     "data": {
      "text/plain": [
       "array([[[584, 108]],\n",
       "\n",
       "       [[565, 117]],\n",
       "\n",
       "       [[549, 134]],\n",
       "\n",
       "       [[541, 155]],\n",
       "\n",
       "       [[541, 177]],\n",
       "\n",
       "       [[547, 195]],\n",
       "\n",
       "       [[564, 214]],\n",
       "\n",
       "       [[589, 225]],\n",
       "\n",
       "       [[611, 225]],\n",
       "\n",
       "       [[648, 202]],\n",
       "\n",
       "       [[659, 176]],\n",
       "\n",
       "       [[659, 156]],\n",
       "\n",
       "       [[648, 130]],\n",
       "\n",
       "       [[630, 114]],\n",
       "\n",
       "       [[611, 107]]], dtype=int32)"
      ]
     },
     "execution_count": 19,
     "metadata": {},
     "output_type": "execute_result"
    }
   ],
   "source": [
    "approx"
   ]
  },
  {
   "cell_type": "code",
   "execution_count": null,
   "id": "83a3742c",
   "metadata": {},
   "outputs": [],
   "source": []
  }
 ],
 "metadata": {
  "kernelspec": {
   "display_name": "Python 3 (ipykernel)",
   "language": "python",
   "name": "python3"
  },
  "language_info": {
   "codemirror_mode": {
    "name": "ipython",
    "version": 3
   },
   "file_extension": ".py",
   "mimetype": "text/x-python",
   "name": "python",
   "nbconvert_exporter": "python",
   "pygments_lexer": "ipython3",
   "version": "3.11.5"
  }
 },
 "nbformat": 4,
 "nbformat_minor": 5
}
